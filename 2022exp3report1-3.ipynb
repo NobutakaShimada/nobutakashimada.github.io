{
  "cells": [
    {
      "cell_type": "markdown",
      "metadata": {
        "id": "0cUStRos7VOd"
      },
      "source": [
        "#  実世界情報実験３ロボットテーマレポート　その１"
      ]
    },
    {
      "cell_type": "markdown",
      "metadata": {
        "id": "tovAKB5b7VOe"
      },
      "source": [
        "氏名"
      ]
    },
    {
      "cell_type": "markdown",
      "metadata": {
        "id": "tQS7E3IH7VOe"
      },
      "source": [
        ""
      ]
    },
    {
      "cell_type": "markdown",
      "metadata": {
        "id": "pZ08J3n27VOf"
      },
      "source": [
        "学生番号"
      ]
    },
    {
      "cell_type": "markdown",
      "metadata": {
        "id": "WcUPuSsm7VOf"
      },
      "source": [
        ""
      ]
    },
    {
      "cell_type": "markdown",
      "metadata": {
        "id": "r1gTNG4o7VOf"
      },
      "source": [
        "日付"
      ]
    },
    {
      "cell_type": "markdown",
      "metadata": {
        "id": "2qYYbYHR7VOg"
      },
      "source": [
        ""
      ]
    },
    {
      "cell_type": "markdown",
      "metadata": {
        "id": "YOgkAJCF7VOg"
      },
      "source": [
        " ##   ０. ロボットプログラミング２テーマの内容"
      ]
    },
    {
      "cell_type": "markdown",
      "metadata": {
        "id": "i6RoEpGe7VOh"
      },
      "source": [
        "＜ここにロボットプログラミング２のテーマ内容について、自分なりにまとめて２００字程度で説明を記載すること！！！＞\n",
        "\n",
        "どういう実験内容か、何を学ぶか、など。\n",
        "以下の各実験課題の結果についても、データや画像、プログラムコードを貼り付けるだけでなく、それぞれの説明をレポートとして記載すること。それらがどの程度充実しているかが評価につながります。\n",
        " \n",
        "ー＞この文章は削除して、置き換えること！"
      ]
    },
    {
      "cell_type": "markdown",
      "metadata": {
        "id": "ZLl0lREK7VOi"
      },
      "source": [
        "## １． ロボットの操作とROSの基礎"
      ]
    },
    {
      "cell_type": "markdown",
      "metadata": {
        "id": "TjYosgGP7VOj"
      },
      "source": [
        "### 課題1-1"
      ]
    },
    {
      "cell_type": "markdown",
      "metadata": {
        "id": "D4m66cCF7VOj"
      },
      "source": [
        "リモコン操作でロボットの動きをよく観察しなさい。リモコンからの入力はどういう信号に変換されて送られていると思うか（位置、速度、加度など）。各キーにバインドされた制御信号を予想して下に記載しなさい。"
      ]
    },
    {
      "cell_type": "markdown",
      "metadata": {
        "id": "pckK-ePi7VOk"
      },
      "source": [
        "\n",
        "\n",
        "\n",
        "\n",
        "\n",
        "\n"
      ]
    },
    {
      "cell_type": "markdown",
      "metadata": {
        "id": "MTLYMrpo7VOk"
      },
      "source": [
        "### 課題1-2"
      ]
    },
    {
      "cell_type": "markdown",
      "metadata": {
        "id": "J5IQoDX77VOk"
      },
      "source": [
        "[チュートリアルサイトの「ROSトピックの理解」](http://wiki.ros.org/ja/ROS/Tutorials/UnderstandingTopics)のページを開いて、教員の説明を聞きながら順を追ってROS環境操作の各手順を実行し、内容を理解しなさい。\n",
        "\n",
        "その後、rostopic pubコマンドを使ってturtlesimのタートルを一定の並進速度・回転速度で動かす命令（ただしチュートリアルサイトの数字とは違う速度の指示値を与えよ）を実行して、そのときのrostopicコマンドの文字列と実行後のタートル表示ウインドウをキャプチャして下に貼りなさい。\n"
      ]
    },
    {
      "cell_type": "markdown",
      "metadata": {
        "id": "7uLoOSeZ7VOl"
      },
      "source": [
        "**実行したコマンド文字列**"
      ]
    },
    {
      "cell_type": "markdown",
      "metadata": {
        "id": "WVS6ZNQk7VOl"
      },
      "source": [
        "\n",
        "\n"
      ]
    },
    {
      "cell_type": "markdown",
      "metadata": {
        "id": "oYtSLR2r7VOl"
      },
      "source": [
        "**コマンド実行後に表示されたタートルの軌跡（ウィンドウをキャプチャして貼り付けること）**"
      ]
    },
    {
      "cell_type": "markdown",
      "metadata": {
        "id": "FVHlyXut7VOm"
      },
      "source": [
        "\n",
        "\n"
      ]
    },
    {
      "cell_type": "markdown",
      "metadata": {
        "id": "FQm4aunP7VOm"
      },
      "source": [
        "### 課題1-3"
      ]
    },
    {
      "cell_type": "markdown",
      "metadata": {
        "id": "deTovuog7VOn"
      },
      "source": [
        "１.[「シンプルな配信者(Publisher)と購読者(Subscriber)を書く」チュートリアル](http://wiki.ros.org/ja/ROS/Tutorials/WritingPublisherSubscriber%28python%29)のページを開いて、記載されている指示に従いtalker.pyとlistener.pyをダウンロードするか直接ファイルにコピーペーストして保存しなさい。"
      ]
    },
    {
      "cell_type": "markdown",
      "metadata": {
        "id": "nlRAET9I7VOn"
      },
      "source": [
        "**talker.py**"
      ]
    },
    {
      "cell_type": "code",
      "execution_count": null,
      "metadata": {
        "id": "3iZB_RED7VOn"
      },
      "outputs": [],
      "source": [
        "\n",
        "\n",
        "\n",
        "\n",
        "\n"
      ]
    },
    {
      "cell_type": "markdown",
      "metadata": {
        "id": "0ciMlwqk7VOo"
      },
      "source": [
        "**listener.py**"
      ]
    },
    {
      "cell_type": "code",
      "execution_count": null,
      "metadata": {
        "id": "dtNdqU0x7VOo"
      },
      "outputs": [],
      "source": [
        "\n",
        "\n",
        "\n",
        "\n",
        "\n"
      ]
    },
    {
      "cell_type": "markdown",
      "metadata": {
        "id": "m5JCyxkl7VOo"
      },
      "source": [
        "２. 保存した２つのプログラムを指示に従って動かして、どういう動作をするか確かめなさい(ターミナルを開いてrosrunコマンドを使う)。どのような出力が得られたかを下に示し、そこから確認できる動作の内容を説明しなさい。"
      ]
    },
    {
      "cell_type": "markdown",
      "metadata": {
        "id": "gJ1MnyBr7VOo"
      },
      "source": [
        "**出力結果**"
      ]
    },
    {
      "cell_type": "code",
      "execution_count": null,
      "metadata": {
        "id": "h4t5Fmy97VOp"
      },
      "outputs": [],
      "source": [
        "\n",
        "\n",
        "\n",
        "\n",
        "\n"
      ]
    },
    {
      "cell_type": "markdown",
      "metadata": {
        "id": "t9UINn3q7VOp"
      },
      "source": [
        "**説明**"
      ]
    },
    {
      "cell_type": "markdown",
      "metadata": {
        "id": "25ycKGJW7VOp"
      },
      "source": [
        "\n",
        "\n",
        "\n",
        "\n",
        "\n"
      ]
    },
    {
      "cell_type": "markdown",
      "metadata": {
        "id": "W7Qjbe-c7VOp"
      },
      "source": [
        "### 課題1-4"
      ]
    },
    {
      "cell_type": "markdown",
      "metadata": {
        "id": "6Wr-e2rV7VOq"
      },
      "source": [
        "1. 授業中の解説を参考に、キーボードで入力したテキスト文字を送受信するROSノードをpython(rospy)を使って実装しなさい。python2ではキーボード入力の取得にraw_input()が使える。\n",
        "2. そのコード（クライアント：talker2.py　とサーバ：listener2.py）をノートブックに添付しなさい。"
      ]
    },
    {
      "cell_type": "markdown",
      "metadata": {
        "id": "Nacm7tJQ7VOq"
      },
      "source": [
        "**talker2.py**"
      ]
    },
    {
      "cell_type": "code",
      "execution_count": null,
      "metadata": {
        "id": "PoA0B29I7VOq"
      },
      "outputs": [],
      "source": [
        "\n",
        "\n",
        "\n",
        "\n",
        "\n"
      ]
    },
    {
      "cell_type": "markdown",
      "metadata": {
        "id": "E0EufJ4z7VOr"
      },
      "source": [
        "**listener2.py**"
      ]
    },
    {
      "cell_type": "code",
      "execution_count": null,
      "metadata": {
        "id": "jRwncl6e7VOr"
      },
      "outputs": [],
      "source": [
        "\n",
        "\n",
        "\n",
        "\n",
        "\n",
        "\n"
      ]
    },
    {
      "cell_type": "markdown",
      "metadata": {
        "id": "9RnQAGvB7VOr"
      },
      "source": [
        "３. テキストの送受信に使用されるトピック名と、送受信メッセージの定義（rosmsgコマンドを使用せよ）をノートブックに添付せよ。"
      ]
    },
    {
      "cell_type": "markdown",
      "metadata": {
        "id": "pxXkoTm77VOr"
      },
      "source": [
        "\n",
        "\n",
        "\n",
        "\n",
        "\n",
        "\n",
        "\n",
        "\n"
      ]
    },
    {
      "cell_type": "markdown",
      "metadata": {
        "id": "X2aW25Vp7VOr"
      },
      "source": [
        "４. 実行した時の画面表示をキャプチャしてノートブックに添付しなさい。"
      ]
    },
    {
      "cell_type": "markdown",
      "metadata": {
        "id": "6RMSPTdh7VOs"
      },
      "source": [
        "\n",
        "\n",
        "\n",
        "\n",
        "\n",
        "\n",
        "\n",
        "\n",
        "\n"
      ]
    },
    {
      "cell_type": "markdown",
      "metadata": {
        "id": "hxEbGJYf7VOs"
      },
      "source": [
        "５. rostopic echoコマンドを実行して、流れているROSメッセージを端末に表示し、それをキャプチャしてノートブックに添付しなさい。"
      ]
    },
    {
      "cell_type": "markdown",
      "metadata": {
        "id": "8yEOAsFU7VOs"
      },
      "source": [
        "\n",
        "\n",
        "\n",
        "\n",
        "\n",
        "\n",
        "\n",
        "\n",
        "\n",
        "\n",
        "\n",
        "\n",
        "\n"
      ]
    },
    {
      "cell_type": "markdown",
      "metadata": {
        "id": "yW3sEPHD7VOs"
      },
      "source": [
        "６. rqt_graphコマンドを実行して、ノード・トピックの関係図を表示し、画像としてノートブックに添付しなさい。画像を貼るには画像ファイルのアイコンをファイルビューアで表示し、そのアイコンをノートブックのセルにドロップすればよい。"
      ]
    },
    {
      "cell_type": "markdown",
      "metadata": {
        "id": "KH-iFxyO7VOt"
      },
      "source": [
        "\n",
        "\n",
        "\n",
        "\n",
        "\n",
        "\n",
        "\n",
        "\n",
        "\n",
        "\n",
        "\n",
        "\n"
      ]
    },
    {
      "cell_type": "markdown",
      "metadata": {
        "id": "m_93hjzT7VOt"
      },
      "source": [
        "７. talker2.pyを複数起動すると、2ノード以上からのテキストをlistener2.pyは表示することができる。実際に試してみて、なぜそれが可能なのか考察しノートブックで説明せよ。"
      ]
    },
    {
      "cell_type": "markdown",
      "metadata": {
        "id": "XFvgUCTG7VOt"
      },
      "source": [
        "\n",
        "\n",
        "\n",
        "\n",
        "\n",
        "\n",
        "\n",
        "\n",
        "\n",
        "\n",
        "\n",
        "\n",
        "\n",
        "\n"
      ]
    },
    {
      "cell_type": "markdown",
      "metadata": {
        "id": "1oqiWPQm7VOt"
      },
      "source": [
        "### 課題1-5"
      ]
    },
    {
      "cell_type": "markdown",
      "metadata": {
        "id": "evz9H4827VOt"
      },
      "source": [
        "1. talker2.pyとlistener2.pyのpythonコードを参考に、双方向でテキストを送受信できるように改造した.pyを実装せよ。\n",
        "2. 改造したコードをノートブックに添付しなさい。"
      ]
    },
    {
      "cell_type": "markdown",
      "metadata": {
        "id": "o6kfpCmj7VOu"
      },
      "source": [
        "**改造したROSノードのpythonコード**\n",
        "\n",
        "必要なら任意にセルを増やして記載すること。"
      ]
    },
    {
      "cell_type": "code",
      "execution_count": null,
      "metadata": {
        "id": "eZDb5WkC7VOu"
      },
      "outputs": [],
      "source": [
        "\n",
        "\n",
        "\n",
        "\n"
      ]
    },
    {
      "cell_type": "markdown",
      "metadata": {
        "id": "FvjOPmVV7VOu"
      },
      "source": [
        "## 2. GazeboシミュレーションによるTurtlebot3の操作"
      ]
    },
    {
      "cell_type": "markdown",
      "metadata": {
        "id": "oYOIwxsy7VOu"
      },
      "source": [
        "### 課題2"
      ]
    },
    {
      "cell_type": "markdown",
      "metadata": {
        "id": "jhsTxfSZ7VOv"
      },
      "source": [
        "１. Gazeboシミュレータ(gazebo.launch)とRViz(rviz.launch)、teleop(teleop.launch)を起動してTurtlebotを適当に移動させ、その時のGazeboの画面（視点を自由に移動せよ）、RVizの画面をキャプチャしてノートブックに添付せよ。"
      ]
    },
    {
      "cell_type": "markdown",
      "metadata": {
        "id": "wqC1ar3f7VOv"
      },
      "source": [
        "**Gazeboのシーン画面**"
      ]
    },
    {
      "cell_type": "markdown",
      "metadata": {
        "id": "8ftRMrfm7VOv"
      },
      "source": [
        "\n",
        "\n",
        "\n",
        "\n",
        "\n",
        "\n",
        "\n"
      ]
    },
    {
      "cell_type": "markdown",
      "metadata": {
        "id": "lCEqijHs7VOv"
      },
      "source": [
        "**RVizの画面**"
      ]
    },
    {
      "cell_type": "markdown",
      "metadata": {
        "id": "KbBjVDt37VOw"
      },
      "source": [
        "\n",
        "\n",
        "\n",
        "\n",
        "\n",
        "\n",
        "\n",
        "\n"
      ]
    },
    {
      "cell_type": "markdown",
      "metadata": {
        "id": "f_n4aFGb7VOw"
      },
      "source": [
        "２. rosnode listコマンドを実行してどのようなノードが起動しているか確認し、結果をノートブックに添付せよ。"
      ]
    },
    {
      "cell_type": "markdown",
      "metadata": {
        "id": "85y-IaUq7VOw"
      },
      "source": [
        "\n",
        "\n",
        "\n",
        "\n",
        "\n",
        "\n",
        "\n"
      ]
    },
    {
      "cell_type": "markdown",
      "metadata": {
        "id": "4v24C-S77VOw"
      },
      "source": [
        "３. rostopic listコマンドを実行して、どのようなトピックが作られているか確認し、結果をノートブックに添付せよ。"
      ]
    },
    {
      "cell_type": "markdown",
      "metadata": {
        "id": "7PnxxutH7VOw"
      },
      "source": [
        "\n",
        "\n",
        "\n",
        "\n",
        "\n",
        "\n",
        "\n"
      ]
    },
    {
      "cell_type": "markdown",
      "metadata": {
        "id": "7LlUCeHp7VOx"
      },
      "source": [
        "４. rostopic echoコマンドを実行して、いくつかのトピックメッセージが流れている様子を観察せよ。観察したトピック名とその内容（大量にあるので１０行程度で良い）をノートブックに添付せよ。"
      ]
    },
    {
      "cell_type": "markdown",
      "metadata": {
        "id": "xcS37RpU7VOx"
      },
      "source": [
        "\n",
        "\n",
        "\n",
        "\n",
        "\n",
        "\n",
        "\n"
      ]
    },
    {
      "cell_type": "markdown",
      "metadata": {
        "id": "WUt-ltHk7VOx"
      },
      "source": [
        "５. teleop.launchや各種コマンドを駆使して、Turtlebot3への行動命令が流れているトピックを特定せよ。そのトピック名と、メッセージの型名、メッセージの定義(rosmsg showコマンドを用いよ）をノートブックに添付せよ。"
      ]
    },
    {
      "cell_type": "markdown",
      "metadata": {
        "id": "usazQ48g7VOx"
      },
      "source": [
        "\n",
        "\n",
        "\n",
        "\n",
        "\n",
        "\n",
        "\n",
        "\n",
        "\n",
        "\n",
        "\n"
      ]
    },
    {
      "cell_type": "markdown",
      "metadata": {
        "id": "DZXN0NXk7VOy"
      },
      "source": [
        "６. rqt_graphコマンドを実行して、ノード・トピックの関係図を表示し、画像としてノートブックに添付しなさい。"
      ]
    },
    {
      "cell_type": "markdown",
      "metadata": {
        "id": "MJRdAD1h7VOy"
      },
      "source": [
        "\n",
        "\n",
        "\n",
        "\n",
        "\n",
        "\n",
        "\n",
        "\n",
        "\n",
        "\n",
        "\n",
        "\n"
      ]
    },
    {
      "cell_type": "markdown",
      "metadata": {
        "id": "W6TDtX4m7VOy"
      },
      "source": [
        "## 3. 実機Turtlebotへの接続と移動操作"
      ]
    },
    {
      "cell_type": "markdown",
      "metadata": {
        "id": "W7wxg1ee7VOy"
      },
      "source": [
        "### 課題3"
      ]
    },
    {
      "cell_type": "markdown",
      "metadata": {
        "id": "vHxqW3Bd7VOy"
      },
      "source": [
        "１. Turtlebot実機に接続してノードを起動し（machine.launch)、教室のブロックフィールドに実機を置いてteleopで移動させてみよ。適当なところで停止させ、その様子を撮影した写真とその時のRVizの画面をノートブックに添付せよ。"
      ]
    },
    {
      "cell_type": "markdown",
      "metadata": {
        "id": "uyWH9xga7VOz"
      },
      "source": [
        "\n",
        "\n",
        "\n",
        "\n",
        "\n",
        "\n",
        "\n",
        "\n"
      ]
    },
    {
      "cell_type": "markdown",
      "metadata": {
        "id": "GiMDP5fu7VOz"
      },
      "source": [
        "２. 距離センサの反応する範囲にものを置いたり動かして、距離センサの反応がRVizの画面上で変化していることを比較して確認せよ。この時の実環境の様子とRVizの画面をキャプチャしてノートブックに添付し、様子を文章で説明せよ（２つの異なる状況でセンサーの反応が異なっていることがわかる画像を２種類添付すること）。\n"
      ]
    },
    {
      "cell_type": "markdown",
      "metadata": {
        "id": "jdtOdhuh7VOz"
      },
      "source": [
        "\n",
        "\n",
        "\n",
        "\n",
        "\n",
        "\n",
        "\n",
        "\n",
        "\n"
      ]
    },
    {
      "cell_type": "markdown",
      "metadata": {
        "id": "aZaUXvht7VOz"
      },
      "source": [
        "**実環境の様子**"
      ]
    },
    {
      "cell_type": "markdown",
      "metadata": {
        "id": "4uZA2vX07VO0"
      },
      "source": [
        "\n",
        "\n",
        "\n",
        "\n",
        "\n",
        "\n",
        "\n"
      ]
    },
    {
      "cell_type": "markdown",
      "metadata": {
        "id": "qvIGqfrc7VO0"
      },
      "source": [
        "**RVizの画面**"
      ]
    },
    {
      "cell_type": "markdown",
      "metadata": {
        "id": "q22chsjT7VO0"
      },
      "source": [
        "\n",
        "\n",
        "\n",
        "\n",
        "\n",
        "\n",
        "\n"
      ]
    },
    {
      "cell_type": "markdown",
      "metadata": {
        "id": "kQ2V42On7VO0"
      },
      "source": [
        "**説明**"
      ]
    },
    {
      "cell_type": "markdown",
      "metadata": {
        "id": "MC3Sp5mt7VO1"
      },
      "source": [
        "\n",
        "\n",
        "\n",
        "\n",
        "\n",
        "\n",
        "\n"
      ]
    },
    {
      "cell_type": "markdown",
      "metadata": {
        "id": "pCqDu4f37VO1"
      },
      "source": [
        "次はSLAMによる環境マッピングとナビゲーションの課題になります。これについては別のファイルに記載してもらうので注意してください。"
      ]
    },
    {
      "cell_type": "markdown",
      "metadata": {
        "id": "3QSgA_la7VO1"
      },
      "source": [
        "\n",
        "\n",
        "\n",
        "\n",
        "\n",
        "\n"
      ]
    }
  ],
  "metadata": {
    "kernelspec": {
      "display_name": "Python 3",
      "language": "python",
      "name": "python3"
    },
    "language_info": {
      "codemirror_mode": {
        "name": "ipython",
        "version": 3
      },
      "file_extension": ".py",
      "mimetype": "text/x-python",
      "name": "python",
      "nbconvert_exporter": "python",
      "pygments_lexer": "ipython3",
      "version": "3.7.8"
    },
    "colab": {
      "name": "2022exp3report1-3.ipynb",
      "provenance": [],
      "collapsed_sections": [],
      "toc_visible": true
    }
  },
  "nbformat": 4,
  "nbformat_minor": 0
}
