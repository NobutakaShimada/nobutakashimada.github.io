{
  "cells": [
    {
      "cell_type": "markdown",
      "metadata": {
        "id": "XwtaDUzL7xV8"
      },
      "source": [
        "#  実世界情報実験３ロボットテーマレポート　その２"
      ]
    },
    {
      "cell_type": "markdown",
      "metadata": {
        "id": "SwLld9Bv7xV-"
      },
      "source": [
        "氏名"
      ]
    },
    {
      "cell_type": "markdown",
      "metadata": {
        "id": "d4N4Fn-57xV-"
      },
      "source": [
        ""
      ]
    },
    {
      "cell_type": "markdown",
      "metadata": {
        "id": "I1Yal-lU7xV_"
      },
      "source": [
        "学生番号"
      ]
    },
    {
      "cell_type": "markdown",
      "metadata": {
        "id": "FDMLUlMY7xV_"
      },
      "source": [
        ""
      ]
    },
    {
      "cell_type": "markdown",
      "metadata": {
        "id": "UNVJUuCh7xV_"
      },
      "source": [
        "日付"
      ]
    },
    {
      "cell_type": "markdown",
      "metadata": {
        "id": "oJmMrBta7xWA"
      },
      "source": [
        ""
      ]
    },
    {
      "cell_type": "markdown",
      "metadata": {
        "id": "5NPGRIXB7xWA"
      },
      "source": [
        "## 4. 環境地図の自動マッピング(SLAM)"
      ]
    },
    {
      "cell_type": "markdown",
      "metadata": {
        "id": "JoVZJZ5H7xWB"
      },
      "source": [
        "### 課題4-1"
      ]
    },
    {
      "cell_type": "markdown",
      "metadata": {
        "id": "gnnFy49u7xWC"
      },
      "source": [
        "１. Gazebo起動時にgazebo_manipulator_world.launchを起動して、SLAMを実行し地図を作成しなさい。作成できた地図画像(`~/exp3_ws/src/exp3/map`ディレクトリにある）をノートブックに添付せよ。添付するにはファイルビューアを開いて、ノートブックのmarkdownセルに画像(pgmファイル）のアイコンをドロップすればよい。"
      ]
    },
    {
      "cell_type": "markdown",
      "metadata": {
        "id": "ntlR4AZF7xWD"
      },
      "source": [
        "**作成した地図**"
      ]
    },
    {
      "cell_type": "markdown",
      "metadata": {
        "id": "TDyVYMW07xWE"
      },
      "source": [
        "\n",
        "\n",
        "\n",
        "\n",
        "\n"
      ]
    },
    {
      "cell_type": "markdown",
      "metadata": {
        "id": "KhD2RCuE7xWE"
      },
      "source": [
        "２. Gazebo用に他の環境シーンのデータを用意してある。launchファイルを変えると別の環境シーンがGazeboに読み込まれるので次のうちの１つを読み込んで、SLAMを起動して地図を作成しノートブックに添付せよ。\n",
        "\n",
        "\n",
        "- gazebo_manipulator_house.launch\n",
        "- gazebo_manipulator_stage_4.launch\n",
        "- gazebo_manipulator_willowgarage.launch (この環境シーンは非常に広大なので、地図を生成するのは一部でよい)"
      ]
    },
    {
      "cell_type": "markdown",
      "metadata": {
        "id": "-QxUHHht7xWE"
      },
      "source": [
        "**説明：**"
      ]
    },
    {
      "cell_type": "markdown",
      "metadata": {
        "id": "W-g5-z1v7xWF"
      },
      "source": [
        "\n",
        "\n",
        "\n",
        "\n",
        "\n",
        "\n",
        "\n"
      ]
    },
    {
      "cell_type": "markdown",
      "metadata": {
        "id": "j-MIfiES7xWF"
      },
      "source": [
        "**作成した地図**"
      ]
    },
    {
      "cell_type": "markdown",
      "metadata": {
        "id": "5umSPbeB7xWF"
      },
      "source": [
        "\n",
        "\n",
        "\n",
        "\n",
        "\n",
        "\n",
        "\n"
      ]
    },
    {
      "cell_type": "markdown",
      "metadata": {
        "id": "p8cm3q3C7xWG"
      },
      "source": [
        "### 課題4-2"
      ]
    },
    {
      "cell_type": "markdown",
      "metadata": {
        "id": "9NhvIxOb7xWG"
      },
      "source": [
        "１. 教室内にスチロールブロックを使って作ったコースがいくつか設置してある。周りと相談して適宜変更して良いので、自分独自のコースアレンジをしてみよう。アレンジしたコースの写真を撮ってノートブックに添付せよ。"
      ]
    },
    {
      "cell_type": "markdown",
      "metadata": {
        "id": "KKUjCZzg7xWG"
      },
      "source": [
        "**コースの写真**"
      ]
    },
    {
      "cell_type": "markdown",
      "metadata": {
        "id": "tt-WcylG7xWH"
      },
      "source": [
        "\n",
        "\n",
        "\n",
        "\n",
        "\n",
        "\n",
        "\n"
      ]
    },
    {
      "cell_type": "markdown",
      "metadata": {
        "id": "fOP2T0-d7xWH"
      },
      "source": [
        "２. アレンジしたコースにTurtlebot実機を置いて、上の要領でSLAMを実行しコースの環境地図を作成しなさい。作成できた地図画像(`~/exp3_ws/src/exp3/map`ディレクトリにある）をノートブックに添付せよ。添付するにはファイルビューアを開いて、ノートブックのmarkdownセルに画像(pgmファイル）のアイコンをドロップすればよい。"
      ]
    },
    {
      "cell_type": "markdown",
      "metadata": {
        "id": "rX2CgHiY7xWH"
      },
      "source": [
        "**作成した地図**"
      ]
    },
    {
      "cell_type": "markdown",
      "metadata": {
        "id": "hwhP8Jf17xWH"
      },
      "source": [
        "\n",
        "\n",
        "\n",
        "\n",
        "\n",
        "\n",
        "\n",
        "\n"
      ]
    },
    {
      "cell_type": "markdown",
      "metadata": {
        "id": "Qn8Mm6MD7xWI"
      },
      "source": [
        "## 5. 生成した環境地図に基づくナビゲーション"
      ]
    },
    {
      "cell_type": "markdown",
      "metadata": {
        "id": "1ikjlZX77xWI"
      },
      "source": [
        "### 課題5-1 (Gazebo編)\n",
        "課題4-1をやった後にすぐこの課題に取り組むと効率がよいので続けて取り組むことを勧める。"
      ]
    },
    {
      "cell_type": "markdown",
      "metadata": {
        "id": "vK9WPqdy7xWI"
      },
      "source": [
        "１. Gazeboシミュレータ環境を起動し、SLAMの時に作った地図を指定してナビゲーションを実行してみなさい。"
      ]
    },
    {
      "cell_type": "markdown",
      "metadata": {
        "id": "QDwDoUhz7xWI"
      },
      "source": [
        "２. 最初に自己位置推定が不確かである状況を画面キャプチャして保存し、ノートブックに添付せよ。画面キャプチャはUbuntuではgnome-screenshotを使うことができる。例えば保存するファイルをinitial.pngにするときは以下のコマンドを実行して、マウスでキャプチャする範囲を指定する。\n",
        "\n",
        "$ gnome-screenshot --area -f initial.png"
      ]
    },
    {
      "cell_type": "markdown",
      "metadata": {
        "id": "9uQC5QSD7xWJ"
      },
      "source": [
        "**初期の推定状況(RViz画面)**"
      ]
    },
    {
      "cell_type": "markdown",
      "metadata": {
        "id": "CkW3K2Fp7xWJ"
      },
      "source": [
        "\n",
        "\n",
        "\n",
        "\n",
        "\n",
        "\n",
        "\n",
        "\n",
        "\n"
      ]
    },
    {
      "cell_type": "markdown",
      "metadata": {
        "id": "TlqmOewe7xWJ"
      },
      "source": [
        "３. ゴールを指定してナビゲーションを開始すると、移動経路がRViz上に示されること、移動している間に次第に自己位置推定が確からしくなる様子を確かめよ。このときの途中経過を画面キャプチャあるいは動画にして保存し、ノートブックに添付せよ(ノートブックには動画は直接張り込めないので、数枚の画像列にして貼ると良い)。動画を保存するのはsimplescreenrecoderを使うとできる（デスクトップ左端のアイコンにもある）。"
      ]
    },
    {
      "cell_type": "markdown",
      "metadata": {
        "id": "6mlswWmt7xWJ"
      },
      "source": [
        "**自己位置の推定が確からしくなる様子**\n",
        "\n",
        "数枚の画像を添付して様子を文章で説明せよ。"
      ]
    },
    {
      "cell_type": "markdown",
      "metadata": {
        "id": "sEj-orGX7xWK"
      },
      "source": [
        "**説明**\n",
        "\n",
        "\n"
      ]
    },
    {
      "cell_type": "markdown",
      "metadata": {
        "id": "Jz8uI-b_7xWK"
      },
      "source": [
        "\n",
        "\n",
        "\n"
      ]
    },
    {
      "cell_type": "markdown",
      "metadata": {
        "id": "mx7yCaMk7xWK"
      },
      "source": [
        "**図**\n",
        "\n",
        "\n"
      ]
    },
    {
      "cell_type": "markdown",
      "metadata": {
        "id": "SWpRkthU7xWK"
      },
      "source": [
        "\n",
        "\n"
      ]
    },
    {
      "cell_type": "markdown",
      "metadata": {
        "id": "EpTs4hcd7xWL"
      },
      "source": [
        ""
      ]
    },
    {
      "cell_type": "markdown",
      "metadata": {
        "id": "-5iW61Q17xWL"
      },
      "source": [
        "４. Gazeboではシミュレーション空間中に新規のオブジェクトを置くことができる。レジュメの図にあるボタンを操作して空間に配置し障害物としてみよ。地図には存在しない障害物をどのようにして避けるか確認しなさい。障害物をおいたGazeboの環境シーンを撮影しノートブックに添付せよ。またそれを避ける移動経路を生成して移動していく様子のRViz画面を保存しノートブックに添付せよ。"
      ]
    },
    {
      "cell_type": "markdown",
      "metadata": {
        "id": "lxy_OC_b7xWL"
      },
      "source": [
        "**Gazeboの環境シーン(障害物あり)**"
      ]
    },
    {
      "cell_type": "markdown",
      "metadata": {
        "id": "jOxdLLZE7xWL"
      },
      "source": [
        "\n",
        "\n",
        "\n",
        "\n",
        "\n"
      ]
    },
    {
      "cell_type": "markdown",
      "metadata": {
        "id": "B2-1toJd7xWL"
      },
      "source": [
        "**移動経路の生成と移動中の様子(障害物あり)**\n",
        "\n",
        "数枚の画像を添付して様子を説明せよ。"
      ]
    },
    {
      "cell_type": "markdown",
      "metadata": {
        "id": "SA12mror7xWM"
      },
      "source": [
        "**説明**\n",
        "\n",
        "\n",
        "\n",
        "\n"
      ]
    },
    {
      "cell_type": "markdown",
      "metadata": {
        "id": "38oDCBJu7xWM"
      },
      "source": [
        "\n",
        "\n",
        "\n",
        "\n",
        "\n"
      ]
    },
    {
      "cell_type": "markdown",
      "metadata": {
        "id": "xIQZniDO7xWM"
      },
      "source": [
        "**図**"
      ]
    },
    {
      "cell_type": "markdown",
      "metadata": {
        "id": "NYGlUO3Z7xWM"
      },
      "source": [
        "\n",
        "\n",
        "\n",
        "\n",
        "\n"
      ]
    },
    {
      "cell_type": "markdown",
      "metadata": {
        "id": "P5Os7sG67xWM"
      },
      "source": [
        "\n",
        "\n",
        "\n",
        "\n",
        "\n"
      ]
    },
    {
      "cell_type": "markdown",
      "metadata": {
        "id": "XfuhLC8x7xWM"
      },
      "source": [
        "\n",
        "\n",
        "\n",
        "\n",
        "\n"
      ]
    },
    {
      "cell_type": "markdown",
      "metadata": {
        "id": "gt2mjbCD7xWN"
      },
      "source": [
        "### 課題5-2 (実機編)"
      ]
    },
    {
      "cell_type": "markdown",
      "metadata": {
        "id": "g3gVtIg77xWN"
      },
      "source": [
        "１. 実機を教室内のコースに置き、SLAMの時に作った地図を指定してナビゲーションを実行してみなさい。ただしコースがSLAMの時と大きく変わっているとうまく動かない可能性がある。"
      ]
    },
    {
      "cell_type": "markdown",
      "metadata": {
        "id": "B9WaqS-O7xWN"
      },
      "source": [
        "２. 最初に自己位置推定が不確かである状況を画面キャプチャして保存し、ノートブックに添付せよ。画面キャプチャはUbuntuではgnome-screenshotを使うことができる。"
      ]
    },
    {
      "cell_type": "markdown",
      "metadata": {
        "id": "tREKUcMu7xWN"
      },
      "source": [
        "**初期の推定状況(RVizの画面)**"
      ]
    },
    {
      "cell_type": "markdown",
      "metadata": {
        "id": "OUYpAtqp7xWO"
      },
      "source": [
        "\n",
        "\n",
        "\n",
        "\n",
        "\n"
      ]
    },
    {
      "cell_type": "markdown",
      "metadata": {
        "id": "60wSS_qB7xWO"
      },
      "source": [
        "３. ゴールを指定してナビゲーションを開始すると、移動経路がRViz上に示されること、移動している間に次第に自己位置推定が確からしくなる様子を確かめよ。このときの途中経過を画面キャプチャあるいは動画にして保存し、ノートブックに添付して、さらに様子を文章で説明せよ(ノートブックには動画は直接張り込めないので、数枚の画像列にして貼ると良い)。動画を保存するのはsimplescreenrecoderを使うとできる（デスクトップ左端のアイコンにもある）。"
      ]
    },
    {
      "cell_type": "markdown",
      "metadata": {
        "id": "EOKRSr1_7xWO"
      },
      "source": [
        "**説明**"
      ]
    },
    {
      "cell_type": "markdown",
      "metadata": {
        "id": "udj3A1SK7xWO"
      },
      "source": [
        "\n",
        "\n",
        "\n",
        "\n",
        "\n"
      ]
    },
    {
      "cell_type": "markdown",
      "metadata": {
        "id": "-9INDuV87xWP"
      },
      "source": [
        "**図**\n",
        "\n",
        "\n",
        "\n",
        "\n"
      ]
    },
    {
      "cell_type": "markdown",
      "metadata": {
        "id": "Gf4t9Y4b7xWP"
      },
      "source": [
        "\n",
        "\n",
        "\n",
        "\n",
        "\n"
      ]
    },
    {
      "cell_type": "markdown",
      "metadata": {
        "id": "Nkkdndwx7xWP"
      },
      "source": [
        "\n",
        "\n",
        "\n",
        "\n",
        "\n"
      ]
    },
    {
      "cell_type": "markdown",
      "metadata": {
        "id": "F1xpUq6B7xWP"
      },
      "source": [
        "４. 実際にコース上に手や足、ブロックなどの地図には存在しない障害物を出現させ、ロボットがどのように避けるか確認しなさい。障害物のあるコースの様子を写真で撮影しノートブックに添付せよ。またそれを避ける移動経路を生成して移動していく様子のRViz画面を保存しノートブックに添付せよ。"
      ]
    },
    {
      "cell_type": "markdown",
      "metadata": {
        "id": "1YTomwkT7xWP"
      },
      "source": [
        "**実コースの様子（障害物あり）**"
      ]
    },
    {
      "cell_type": "markdown",
      "metadata": {
        "id": "Ax7ZKzd07xWQ"
      },
      "source": [
        "\n",
        "\n",
        "\n",
        "\n",
        "\n",
        "\n"
      ]
    },
    {
      "cell_type": "markdown",
      "metadata": {
        "id": "c1muEuc37xWQ"
      },
      "source": [
        "**移動経路の生成と移動中の様子(障害物あり)**\n",
        "\n",
        "数枚の画像を添付して文章で説明せよ。"
      ]
    },
    {
      "cell_type": "markdown",
      "metadata": {
        "id": "vrVpVOBu7xWQ"
      },
      "source": [
        "**説明**"
      ]
    },
    {
      "cell_type": "markdown",
      "metadata": {
        "id": "nPI2D4YH7xWQ"
      },
      "source": [
        "\n",
        "\n",
        "\n",
        "\n"
      ]
    },
    {
      "cell_type": "markdown",
      "metadata": {
        "id": "V7yRLH-17xWQ"
      },
      "source": [
        "**図**"
      ]
    },
    {
      "cell_type": "markdown",
      "metadata": {
        "id": "1lzz_DwS7xWQ"
      },
      "source": [
        "\n",
        "\n",
        "\n",
        "\n",
        "\n"
      ]
    },
    {
      "cell_type": "markdown",
      "metadata": {
        "id": "PoMB1xmP7xWR"
      },
      "source": [
        ""
      ]
    },
    {
      "cell_type": "markdown",
      "metadata": {
        "id": "Pjt6UURz7xWR"
      },
      "source": [
        "次はアームグリッパによるマニピュレーションの課題になります。これについては別のファイルに記載してもらうので注意してください。\n"
      ]
    }
  ],
  "metadata": {
    "kernelspec": {
      "display_name": "Python 3",
      "language": "python",
      "name": "python3"
    },
    "language_info": {
      "codemirror_mode": {
        "name": "ipython",
        "version": 3
      },
      "file_extension": ".py",
      "mimetype": "text/x-python",
      "name": "python",
      "nbconvert_exporter": "python",
      "pygments_lexer": "ipython3",
      "version": "3.7.8"
    },
    "colab": {
      "name": "2022exp3report4-5.ipynb",
      "provenance": [],
      "collapsed_sections": [],
      "toc_visible": true
    }
  },
  "nbformat": 4,
  "nbformat_minor": 0
}
