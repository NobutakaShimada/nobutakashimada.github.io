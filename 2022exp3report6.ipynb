{
  "cells": [
    {
      "cell_type": "markdown",
      "metadata": {
        "id": "n4jvuIsq-H1R"
      },
      "source": [
        "# 実世界情報実験３ロボットテーマレポート 課題6"
      ]
    },
    {
      "cell_type": "markdown",
      "metadata": {
        "id": "4FvtJJY9-H1Y"
      },
      "source": [
        "- 氏名: *ここに氏名を書く*\n",
        "- 学生証番号: *ここに学生証番号を入力*\n",
        "- 日付: *ここに日付を入力(YYYY-MM-DD)*"
      ]
    },
    {
      "cell_type": "markdown",
      "metadata": {
        "id": "es1XtPUk-H1e"
      },
      "source": [
        "# 6. Pythonプログラムを用いた移動指示とマニピュレータ操作\n"
      ]
    },
    {
      "cell_type": "markdown",
      "metadata": {
        "id": "Z6SnZaJX-H1g"
      },
      "source": [
        "## 課題6-1"
      ]
    },
    {
      "cell_type": "markdown",
      "metadata": {
        "id": "e40TFRujFqem"
      },
      "source": [
        "### 取得した座標値 (項目2.)\n",
        "`teleop` などを使ってロボットを初期位置からある程度離れた位置に移動した後、RVizの **Publish Point** の機能でロボットの中心位置を指定してその座標を取得し、レポートで報告してください。"
      ]
    },
    {
      "cell_type": "markdown",
      "metadata": {
        "id": "hgznaCUFFqen"
      },
      "source": [
        "**回答欄**: [取得した座標を記入する]\n",
        "\n",
        "HERE"
      ]
    },
    {
      "cell_type": "markdown",
      "metadata": {
        "id": "32P6mqCJFqep"
      },
      "source": [
        "### RVizのウィンドウ画像 (項目3.)\n",
        "RViz上の表示を以下のように調整した後の状態でRVizのウィンドウをキャプチャしレポートに貼り付けてください。- `map` frame における原点(X,Y) = (0,0)が地図表示パネルの中心に位置するようにする。\n",
        "- `map` frame におけるX軸が画面の水平方向であり、X軸の正の方向が右向きとなり、Y軸の正の方向が垂直上向きとなるように地図を回転させる。\n",
        "- ロボットがパネル内に写るよう地図を拡大縮小させる。\n",
        "- 地図表示パネル内のグリッド線はデフォルトの通り1m間隔で表示させたままとする。\n",
        "- RVizの左側に表示される表示内容選択パネル( `Displays` )を畳んで地図を見やすくしておく。"
      ]
    },
    {
      "cell_type": "markdown",
      "metadata": {
        "id": "kFxVqdfPFqeq"
      },
      "source": [
        "**回答欄**: [RVizのウィンドウを上記の条件を満たすように調整してからキャプチャした画像を貼り付ける]\n",
        "\n",
        "INSERT AN IMAGE HERE"
      ]
    },
    {
      "cell_type": "markdown",
      "metadata": {
        "id": "7JSlEGLGMaO6"
      },
      "source": [
        "## 課題6-2"
      ]
    },
    {
      "cell_type": "markdown",
      "metadata": {
        "id": "AKZ26KcTMaO8"
      },
      "source": [
        "### 目標とする移動先の座標 (項目1.)\n",
        "地図上でロボットが到達可能な移動先を設定し、目標位置の `map` frameにおける座標をレポートで報告してください。\n"
      ]
    },
    {
      "cell_type": "markdown",
      "source": [
        "**回答欄**: [設定した座標を記入する]\n",
        "\n",
        "HERE"
      ],
      "metadata": {
        "id": "xn_ovEdyMrcZ"
      }
    },
    {
      "cell_type": "markdown",
      "metadata": {
        "id": "PMzAmwJiMaO8"
      },
      "source": [
        "### ロボットを目標位置に移動させるプログラム (項目2.)\n",
        "変数 `point_xyz` に目標位置の `map` frameにおける座標が代入されるように `go_to_fixed_point.py` を修正して、修正後のプログラムをレポートに貼り付けてください。\n"
      ]
    },
    {
      "cell_type": "code",
      "source": [
        "# 回答欄: [プログラムを貼り付ける]\n",
        "\n",
        "WRITE A PROGRAM HERE\n",
        "\n"
      ],
      "metadata": {
        "id": "18MvBINWNFkH"
      },
      "execution_count": null,
      "outputs": []
    },
    {
      "cell_type": "markdown",
      "metadata": {},
      "source": [
        "### ノード間の情報のやりとり (項目3.)\n",
        "プログラム動作中に `rqt_graph` を実行し、その画像をレポートに貼り付けてください。\n",
        "加えて、作成したプログラム実行中のノード間の情報のやりとりについて貼り付けた画像を参照しながら説明する文章を作成しレポートで報告してください。"
      ]
    },
    {
      "cell_type": "markdown",
      "source": [
        "**回答欄**: [ `rqt_graph` で作成したグラフ画像を貼り付ける]\n",
        "\n",
        "INSERT A GRAPH"
      ],
      "metadata": {}
    },
    {
      "cell_type": "markdown",
      "source": [
        "**回答欄**: [説明文章を作成し貼り付ける]\n",
        "\n",
        "INSERT AN EXPLANATION HERE"
      ],
      "metadata": {}
    },
    {
      "cell_type": "markdown",
      "metadata": {
        "id": "-9ko1Q4cMaO9"
      },
      "source": [
        "### 移動前の状況 (項目4.)\n",
        "移動前の状況として、RViz上の表示を以下のように調整した後の状態でRVizのウィンドウをキャプチャしレポートに貼り付けてください。\n",
        "- `map` frame における原点(X,Y) = (0,0)が地図表示パネルの中心に位置するようにする。\n",
        "- `map` frame におけるX軸が画面の水平方向であり、X軸の正の方向が右向きとなり、Y軸の正の方向が垂直上向きとなるように地図を回転させる。\n",
        "- **ロボットと目標位置の両方** がパネル内に写るよう地図を拡大縮小させる。\n",
        "- 地図表示パネル内のグリッド線はデフォルトの通り1m間隔で表示させたままとする。\n",
        "- RVizの左側に表示される表示内容選択パネル( `Displays` )を畳んで地図を見やすくしておく。\n",
        "\n",
        "実機で実験を行った場合は移動前の周囲状況の写真も貼り付けてください。\n"
      ]
    },
    {
      "cell_type": "markdown",
      "source": [
        "**回答欄**: [RVizのウィンドウを上記の条件を満たすように調整してからキャプチャした画像を貼り付ける]\n",
        "\n",
        "INSERT AN IMAGE HERE"
      ],
      "metadata": {
        "id": "krls_j8qNBBa"
      }
    },
    {
      "cell_type": "markdown",
      "source": [
        "**回答欄**: [実機で実験を行った場合は周囲状況の写真も貼り付ける]\n",
        "\n",
        "INSERT AN IMAGE HERE"
      ],
      "metadata": {
        "id": "xOUK4KAKNbhV"
      }
    },
    {
      "cell_type": "markdown",
      "metadata": {
        "id": "tvMmlkqkMaO-"
      },
      "source": [
        "### 移動後の状況 (項目5.)\n",
        "移動後の状況として、RVizのウィンドウをキャプチャしレポートに貼り付けてください。但し、移動前の状況と比較できるようRViz内の地図表示パネルの表示範囲や角度が移動前のものと変わらないようにしてください。\n",
        "\n",
        "実機で実験を行った場合は移動後の周囲状況の写真も貼り付けてください。\n"
      ]
    },
    {
      "cell_type": "markdown",
      "source": [
        "**回答欄**: [RVizのウィンドウを上記の条件を満たすように調整してからキャプチャした画像を貼り付ける]\n",
        "\n",
        "INSERT AN IMAGE HERE"
      ],
      "metadata": {
        "id": "BuFKjVeyNsFH"
      }
    },
    {
      "cell_type": "markdown",
      "source": [
        "**回答欄**: [実機で実験を行った場合は周囲状況の写真も貼り付ける]\n",
        "\n",
        "INSERT AN IMAGE HERE"
      ],
      "metadata": {
        "id": "CR9jZoS7Nx8W"
      }
    },
    {
      "cell_type": "markdown",
      "metadata": {
        "id": "zf5SgQ8mMaO_"
      },
      "source": [
        "## 課題6-3"
      ]
    },
    {
      "cell_type": "markdown",
      "metadata": {
        "id": "EtiyVutJTNvh"
      },
      "source": [
        "### 指定された位置にロボットを移動させるプログラム (項目1.)\n",
        "実験室のLinux環境の `~/exp3_ws/src/exp3/scripts/` のディレクトリにあらかじめ `go_to_clicked_point.py` という名前でプログラムの雛形を用意してあります。これを修正してRVizの **Publish Point** ボタンの機能で位置を指定するとロボットがその位置に移動するプログラムを作成しレポートに貼り付けてください。\n"
      ]
    },
    {
      "cell_type": "code",
      "source": [
        "# 回答欄: [プログラムを貼り付ける]\n",
        "\n",
        "WRITE A PROGRAM HERE\n",
        "\n"
      ],
      "metadata": {
        "id": "9gcaKxlkTNvh"
      },
      "execution_count": null,
      "outputs": []
    },
    {
      "cell_type": "markdown",
      "metadata": {},
      "source": [
        "### ノード間の情報のやりとり (項目3.)\n",
        "プログラム動作中に `rqt_graph` を実行し、その画像をレポートに貼り付けてください。\n",
        "加えて、作成したプログラム実行中のノード間の情報のやりとりについて貼り付けた画像を参照しながら説明する文章を作成しレポートで報告してください。"
      ]
    },
    {
      "cell_type": "markdown",
      "source": [
        "**回答欄**: [ `rqt_graph` で作成したグラフ画像を貼り付ける]\n",
        "\n",
        "INSERT A GRAPH"
      ],
      "metadata": {}
    },
    {
      "cell_type": "markdown",
      "source": [
        "**回答欄**: [説明文章を作成し貼り付ける]\n",
        "\n",
        "INSERT AN EXPLANATION HERE"
      ],
      "metadata": {}
    },
    {
      "cell_type": "markdown",
      "metadata": {
        "id": "jEILRwotTNvi"
      },
      "source": [
        "### 移動前の状況 (項目4.)\n",
        "下記の条件で移動前のRVizの画面をキャプチャしレポートに貼り付けてください(課題6-2と同様)。\n",
        "- `map` frame における原点(X,Y) = (0,0)が地図表示パネルの中心に位置するようにする。\n",
        "- `map` frame におけるX軸が画面の水平方向であり、X軸の正の方向が右向きとなり、Y軸の正の方向が垂直上向きとなるように地図を回転させる。\n",
        "- **ロボットと目標位置の両方** がパネル内に写るよう地図を拡大縮小させる。\n",
        "- 地図表示パネル内のグリッド線はデフォルトの通り1m間隔で表示させたままとする。\n",
        "- RVizの左側に表示される表示内容選択パネル( `Displays` )を畳んで地図を見やすくしておく。\n",
        "\n",
        "実機で実験を行った場合は周囲状況の写真も貼り付けてください。\n"
      ]
    },
    {
      "cell_type": "markdown",
      "source": [
        "**回答欄**: [RVizのウィンドウを上記の条件を満たすように調整してからキャプチャした画像を貼り付ける]\n",
        "\n",
        "INSERT AN IMAGE HERE"
      ],
      "metadata": {
        "id": "seNcKYbTTNvi"
      }
    },
    {
      "cell_type": "markdown",
      "metadata": {
        "id": "NHCV1CuwluE6"
      },
      "source": [
        "### 移動後の状況 (項目5.)\n",
        "移動前と同様の条件で移動後についてもRVizの画面をキャプチャしレポートに貼り付けてください。実機で実験を行った場合は周囲状況の写真も貼り付けてください。\n"
      ]
    },
    {
      "cell_type": "markdown",
      "source": [
        "**回答欄**: [RVizのウィンドウを条件を満たすように調整してからキャプチャした画像を貼り付ける]\n",
        "\n",
        "INSERT AN IMAGE HERE"
      ],
      "metadata": {
        "id": "jt3s6y1RluE7"
      }
    },
    {
      "cell_type": "markdown",
      "source": [
        "**回答欄**: [実機で実験を行った場合は周囲状況の写真も貼り付ける]\n",
        "\n",
        "INSERT AN IMAGE HERE"
      ],
      "metadata": {
        "id": "KlISKW5vluE7"
      }
    },
    {
      "cell_type": "markdown",
      "metadata": {
        "id": "oHy-k52rluE9"
      },
      "source": [
        "### 考察 (項目6.)\n",
        "ロボットが意図通りに動いたかを考察してください。\n",
        "- 意図通りに動いたとしたら、どのような状況からそう判断したかを画像を参照しながら説明してください。\n",
        "- 意図通りに動かなかったとしたら、その理由を説明し改善方法を考えて挙げてください。\n",
        "\n",
        "どちらの場合でもその他に気付いた点があれば文章で報告してください。"
      ]
    },
    {
      "cell_type": "markdown",
      "source": [
        "**回答欄**: [考察文章を作成し貼り付ける]\n",
        "\n",
        "INSERT AN EXPLANATION HERE"
      ],
      "metadata": {
        "id": "wa3lPi14luE9"
      }
    },
    {
      "cell_type": "markdown",
      "metadata": {
        "id": "yESwqtadMaO_"
      },
      "source": [
        "## 課題6-4"
      ]
    },
    {
      "cell_type": "markdown",
      "metadata": {
        "id": "Mfee3Fn7WLq-"
      },
      "source": [
        "### アームを動かすプログラム (項目1.)\n",
        "`move_arm.py` であらかじめ定義されている関数を参考にして「アームをある軌道で動かし最後には初期状態に戻すような関数」を作成し、レポートに貼り付けてください。但し、アームの軌道は少なくとも3つの中継点を通るようなもので、`rotate_arm()` とは異なるものにしてください。"
      ]
    },
    {
      "cell_type": "code",
      "source": [
        "# 回答欄: [プログラムを貼り付ける]\n",
        "\n",
        "WRITE A PROGRAM HERE\n",
        "\n"
      ],
      "metadata": {
        "id": "ZdWwUJfUWLq-"
      },
      "execution_count": null,
      "outputs": []
    },
    {
      "cell_type": "markdown",
      "metadata": {
        "id": "XTfIcbEMWLq_"
      },
      "source": [
        "### アームの動作説明 (項目2.)\n",
        "作成したプログラムによって実現されるアームの動作を説明する文章を作成しレポートで報告してください。"
      ]
    },
    {
      "cell_type": "markdown",
      "source": [
        "**回答欄**: [アームの動作を説明する文章を作成し貼り付ける]\n",
        "\n",
        "INSERT AN EXPLANATION HERE"
      ],
      "metadata": {
        "id": "IMq6XdBNWLq_"
      }
    },
    {
      "cell_type": "markdown",
      "metadata": {},
      "source": [
        "### ノード間の情報のやりとり (項目3.)\n",
        "プログラム動作中に `rqt_graph` を実行し、その画像をレポートに貼り付けてください。\n",
        "加えて、作成したプログラム実行中のノード間の情報のやりとりについて貼り付けた画像を参照しながら説明する文章を作成しレポートで報告してください。"
      ]
    },
    {
      "cell_type": "markdown",
      "source": [
        "**回答欄**: [ `rqt_graph` で作成したグラフ画像を貼り付ける]\n",
        "\n",
        "INSERT A GRAPH"
      ],
      "metadata": {}
    },
    {
      "cell_type": "markdown",
      "source": [
        "**回答欄**: [説明文章を作成し貼り付ける]\n",
        "\n",
        "INSERT AN EXPLANATION HERE"
      ],
      "metadata": {}
    },
    {
      "cell_type": "markdown",
      "metadata": {
        "id": "nwb_PL-xWLq_"
      },
      "source": [
        "### 実行中の様子 (項目4.)\n",
        "実際に実機で動作させてその様子を撮影し、写真をレポートに貼り付けてください。アーム動作の流れが分かりやすいよう特徴的なタイミングを選び、複数の写真を時系列順に貼り付けてください。\n",
        "**必要であれば適宜セルを追加して写真を貼り付けること**"
      ]
    },
    {
      "cell_type": "markdown",
      "source": [
        "**回答欄**: [アームの動作の様子を撮影した写真を時系列順に複数貼り付ける]\n",
        "\n",
        "INSERT AN IMAGE HERE"
      ],
      "metadata": {
        "id": "LVimoKHiWLq_"
      }
    },
    {
      "cell_type": "markdown",
      "source": [
        "**回答欄**: [アームの動作の様子を撮影した写真を時系列順に複数貼り付ける]\n",
        "\n",
        "INSERT AN IMAGE HERE"
      ],
      "metadata": {
        "id": "LHoXFGboWLrA"
      }
    },
    {
      "cell_type": "markdown",
      "source": [
        "**回答欄**: [アームの動作の様子を撮影した写真を時系列順に複数貼り付ける]\n",
        "\n",
        "INSERT AN IMAGE HERE"
      ],
      "metadata": {
        "id": "hCC8g37uWLrA"
      }
    },
    {
      "cell_type": "markdown",
      "source": [
        "**必要であれば適宜セルを追加して写真を貼り付けること**"
      ],
      "metadata": {
        "id": "VzFcIOJtWLrA"
      }
    },
    {
      "cell_type": "markdown",
      "metadata": {
        "id": "kMFOUsbWluFI"
      },
      "source": [
        "### 考察 (項目5.)\n",
        "ロボットが意図通りに動いたかを考察してください。\n",
        "- 意図通りに動いたとしたら、どのような状況からそう判断したかを画像を参照しながら説明してください。\n",
        "- 意図通りに動かなかったとしたら、その理由を説明し改善方法を考えて挙げてください。\n",
        "\n",
        "どちらの場合でもその他に気付いた点があれば文章で報告してください。"
      ]
    },
    {
      "cell_type": "markdown",
      "source": [
        "**回答欄**: [考察文章を作成し貼り付ける]\n",
        "\n",
        "INSERT AN EXPLANATION HERE"
      ],
      "metadata": {
        "id": "CATVO5x9luFJ"
      }
    },
    {
      "cell_type": "markdown",
      "metadata": {
        "id": "JnLrTKsAMaPA"
      },
      "source": [
        "## 課題6-5"
      ]
    },
    {
      "cell_type": "markdown",
      "metadata": {
        "id": "S75frRtAb_MB"
      },
      "source": [
        "### 指定された位置にある棒を倒すプログラム (項目1.)\n",
        "「RVizで棒の立っている位置を指定するとその棒の近くに移動し、アームを伸ばしてから回転させて棒を倒すプログラム」を作成しレポートに貼り付けてください。"
      ]
    },
    {
      "cell_type": "code",
      "source": [
        "# 回答欄: [プログラムを貼り付ける]\n",
        "\n",
        "WRITE A PROGRAM HERE\n",
        "\n"
      ],
      "metadata": {
        "id": "JwOJvHLnb_MB"
      },
      "execution_count": null,
      "outputs": []
    },
    {
      "cell_type": "markdown",
      "metadata": {
        "id": "NJfl-fLjb_MC"
      },
      "source": [
        "### 目標を達成するためのアイデア、アルゴリズム (項目2.)\n",
        "プログラム作成時のアイデアや目標(棒の近くに移動する、アーム動作で棒を倒す)を達成するための作戦についての説明をレポートで報告してください。\n",
        "\n",
        "フローチャートなどの画像を使うと伝わりやすいです。レポートのノートブックには適宜セルを追加して図などの説明資料を挿入し、それを参照しながら説明する文章を作成してください。"
      ]
    },
    {
      "cell_type": "markdown",
      "source": [
        "**回答欄**: [プログラム作成時のアイデア、目標を達成するための作戦についての説明文章を作成し貼り付ける]\n",
        "\n",
        "INSERT AN EXPLANATION HERE"
      ],
      "metadata": {
        "id": "lhkjlkKwb_MD"
      }
    },
    {
      "cell_type": "markdown",
      "source": [
        "**適宜セルを追加し、図なども交えて説明すること**\n"
      ],
      "metadata": {
      }
    },
    {
      "cell_type": "markdown",
      "metadata": {
        "id": "jjML4OKfb_MD"
      },
      "source": [
        "### 実行の様子 (項目3.)\n",
        "作成したプログラムを実行し、その様子を報告してください。レポートには下記の情報を含めてください。\n",
        "- 様子を説明する文章(添付画像を適宜参照すると伝わりやすいです。説明しやすい状況となるよう添付する画像を選ぶとより伝わりやすいレポートとなります。)\n",
        "- 動作前のRVizの画像と、動作前の状況の画像(シミュレーションならGazeboの画像、実機実験なら写真)\n",
        "- 動作後のRVizの画像と、動作後の状況の画像(シミュレーションならGazeboの画像、実機実験なら写真)\n",
        "- 意図通りに動作しなかった場合は、その状況が分かりやすいRVizの画像と周囲状況の画像(シミュレーションならGazeboの画像、実機実験なら写真)\n",
        "\n"
      ]
    },
    {
      "cell_type": "markdown",
      "source": [
        "#### 動作時の様子の説明"
      ],
      "metadata": {
        "id": "IDrKlgQeb_ME"
      }
    },
    {
      "cell_type": "markdown",
      "source": [
        "**回答欄**: [動作時の様子を説明する文章作成し貼り付ける]\n",
        "\n",
        "INSERT AN EXPLANATION HERE"
      ],
      "metadata": {
        "id": "EDUvY6ZSb_ME"
      }
    },
    {
      "cell_type": "markdown",
      "source": [
        "#### 動作前の画像"
      ],
      "metadata": {
        "id": "NkdqoGcIb_ME"
      }
    },
    {
      "cell_type": "markdown",
      "source": [
        "**回答欄**: [動作前のRVizの画像を貼り付ける]\n",
        "\n",
        "INSERT AN IMAGE HERE"
      ],
      "metadata": {
        "id": "Dur5pUVSb_ME"
      }
    },
    {
      "cell_type": "markdown",
      "source": [
        "**回答欄**: [動作前の周囲状況の画像を貼り付ける]\n",
        "\n",
        "INSERT AN IMAGE HERE"
      ],
      "metadata": {
        "id": "9Z5jr4Ylb_MF"
      }
    },
    {
      "cell_type": "markdown",
      "source": [
        "#### 動作後の画像"
      ],
      "metadata": {
        "id": "be3eNmF3b_MF"
      }
    },
    {
      "cell_type": "markdown",
      "source": [
        "**回答欄**: [動作後のRVizの画像を貼り付ける]\n",
        "\n",
        "INSERT AN IMAGE HERE"
      ],
      "metadata": {
        "id": "DomuhmVLb_MG"
      }
    },
    {
      "cell_type": "markdown",
      "source": [
        "**回答欄**: [動作前の周囲状況の画像を貼り付ける]\n",
        "\n",
        "INSERT AN IMAGE HERE"
      ],
      "metadata": {
        "id": "sqOJkn8ub_MG"
      }
    },
    {
      "cell_type": "markdown",
      "source": [
        "#### 追加の説明用画像"
      ],
      "metadata": {
        "id": "xpU7hJy8b_MH"
      }
    },
    {
      "cell_type": "markdown",
      "source": [
        "**回答欄**: [説明に有用な画実を適宜貼り付ける]\n",
        "\n",
        "INSERT AN IMAGE HERE"
      ],
      "metadata": {
        "id": "i7KWJn7Hb_MH"
      }
    },
    {
      "cell_type": "markdown",
      "source": [
        "#### 意図しない動作状況の画像"
      ],
      "metadata": {
        "id": "t2jQIqZab_MH"
      }
    },
    {
      "cell_type": "markdown",
      "source": [
        "**回答欄**: [状況が分かりやすいRVizの画像]\n",
        "\n",
        "INSERT AN IMAGE HERE"
      ],
      "metadata": {
        "id": "2zy78JNxb_MH"
      }
    },
    {
      "cell_type": "markdown",
      "source": [
        "**回答欄**: [状況が分かりやすい周囲状況の画像]\n",
        "\n",
        "INSERT AN IMAGE HERE"
      ],
      "metadata": {
        "id": "eYjD_cAZb_MI"
      }
    },
    {
      "cell_type": "markdown",
      "source": [
        "**必要であれば適宜セルを追加して写真を貼り付けること**"
      ],
      "metadata": {
        "id": "CbVq_wz_b_MI"
      }
    },
    {
      "cell_type": "markdown",
      "metadata": {
        "id": "X_ES4jESb_MI"
      },
      "source": [
        "### 考察 (項目4.)\n",
        "動作結果について考察を行いレポートで報告してください。読者に伝わりやすいよう、添付画像を適宜参照すること。\n",
        "- 意図通りに動いたとしたら、動作のどの部分からそう判断したかを文章で報告してください。\n",
        "- 意図通りに動かなかったとしてもその理由を考えて、理由や改善するための案などを文章で報告してください。\n",
        "\n",
        "どちらの場合でもその他に気付いた点があれば文章で報告してください。"
      ]
    },
    {
      "cell_type": "markdown",
      "source": [
        "**回答欄**: [動作についての考察を貼り付ける]\n",
        "\n",
        "INSERT AN EXPLANATION HERE"
      ],
      "metadata": {
        "id": "isMsuuvvb_MJ"
      }
    },
    {
      "cell_type": "markdown",
      "metadata": {
        "id": "ChjtsxtjMaPA"
      },
      "source": [
        "## 課題6-6"
      ]
    },
    {
      "cell_type": "markdown",
      "metadata": {
        "id": "WkVkkw_cfZyB"
      },
      "source": [
        "### 棒倒しを繰り返し行うプログラム (項目1.)\n",
        "課題6-5で作成したプログラムをもとに、「RVizで位置を指定するとその位置の棒を倒す」という一連の動作を繰り返し行えるプログラムを作成し、レポートに貼り付けてください。"
      ]
    },
    {
      "cell_type": "code",
      "source": [
        "# 回答欄: [プログラムを貼り付ける]\n",
        "\n",
        "WRITE A PROGRAM HERE\n",
        "\n"
      ],
      "metadata": {
        "id": "VB823s5yfZyB"
      },
      "execution_count": null,
      "outputs": []
    },
    {
      "cell_type": "markdown",
      "metadata": {
        "id": "Ak9h7Yh_fZyB"
      },
      "source": [
        "### 目標を達成するためのアイデア、アルゴリズム (項目2.)\n",
        "プログラム作成時のアイデアや目標(棒の近くに移動する、アーム動作で棒を倒す、これらの動作を繰り返す)を達成するための作戦についての説明をレポートで報告してください。\n",
        "\n",
        "フローチャートなどの画像を使うと伝わりやすいです。レポートのノートブックには適宜セルを追加して図などの説明資料を挿入し、それを参照しながら説明する文章を作成してください。"
      ]
    },
    {
      "cell_type": "markdown",
      "source": [
        "**回答欄**: [プログラム作成時のアイデア、目標を達成するための作戦についての説明文章を作成し貼り付ける]\n",
        "\n",
        "INSERT AN EXPLANATION HERE"
      ],
      "metadata": {
        "id": "IbkPZGhBfZyC"
      }
    },
    {
      "cell_type": "markdown",
      "source": [
        "**適宜セルを追加し、図なども交えて説明すること**\n"
      ],
      "metadata": {
      }
    },
    {
      "cell_type": "markdown",
      "metadata": {
        "id": "aAQq54BJfZyC"
      },
      "source": [
        "### 実行の様子 (項目3.)\n",
        "作成したプログラムを実行し、その様子を報告してください。レポートには下記の情報を含めてください。\n",
        "- 様子を説明する文章(添付画像を適宜参照すると伝わりやすいです。説明しやすい状況となるよう添付する画像を選ぶとより伝わりやすいレポートとなります。)\n",
        "- 動作前のRVizの画像と、動作前の状況の画像(シミュレーションならGazeboの画像、実機実験なら写真)\n",
        "- 動作後のRVizの画像と、動作後の状況の画像(シミュレーションならGazeboの画像、実機実験なら写真)\n",
        "- 意図通りに動作しなかった場合は、その状況が分かりやすいRVizの画像と周囲状況の画像(シミュレーションならGazeboの画像、実機実験なら写真)\n",
        "\n"
      ]
    },
    {
      "cell_type": "markdown",
      "source": [
        "#### 動作時の様子の説明"
      ],
      "metadata": {
        "id": "d1HW_IXgfZyC"
      }
    },
    {
      "cell_type": "markdown",
      "source": [
        "**回答欄**: [動作時の様子を説明する文章作成し貼り付ける]\n",
        "\n",
        "INSERT AN EXPLANATION HERE"
      ],
      "metadata": {
        "id": "K2fvXdvEfZyD"
      }
    },
    {
      "cell_type": "markdown",
      "source": [
        "#### 動作前の画像"
      ],
      "metadata": {
        "id": "jNX-dOUafZyD"
      }
    },
    {
      "cell_type": "markdown",
      "source": [
        "**回答欄**: [動作前のRVizの画像を貼り付ける]\n",
        "\n",
        "INSERT AN IMAGE HERE"
      ],
      "metadata": {
        "id": "C2ELWGQpfZyD"
      }
    },
    {
      "cell_type": "markdown",
      "source": [
        "**回答欄**: [動作前の周囲状況の画像を貼り付ける]\n",
        "\n",
        "INSERT AN IMAGE HERE"
      ],
      "metadata": {
        "id": "bVqQi8MPfZyD"
      }
    },
    {
      "cell_type": "markdown",
      "source": [
        "#### 動作後の画像"
      ],
      "metadata": {
        "id": "1bv1Q-eifZyE"
      }
    },
    {
      "cell_type": "markdown",
      "source": [
        "**回答欄**: [動作後のRVizの画像を貼り付ける]\n",
        "\n",
        "INSERT AN IMAGE HERE"
      ],
      "metadata": {
        "id": "EelNX7LpfZyE"
      }
    },
    {
      "cell_type": "markdown",
      "source": [
        "**回答欄**: [動作前の周囲状況の画像を貼り付ける]\n",
        "\n",
        "INSERT AN IMAGE HERE"
      ],
      "metadata": {
        "id": "Ebzz95_TfZyE"
      }
    },
    {
      "cell_type": "markdown",
      "source": [
        "#### 追加の説明用画像"
      ],
      "metadata": {
        "id": "bMWTCgfVfZyF"
      }
    },
    {
      "cell_type": "markdown",
      "source": [
        "**回答欄**: [説明に有用な画実を適宜貼り付ける]\n",
        "\n",
        "INSERT AN IMAGE HERE"
      ],
      "metadata": {
        "id": "8fmLyVz-fZyF"
      }
    },
    {
      "cell_type": "markdown",
      "source": [
        "#### 意図しない動作状況の画像"
      ],
      "metadata": {
        "id": "shOwFchtfZyF"
      }
    },
    {
      "cell_type": "markdown",
      "source": [
        "**回答欄**: [状況が分かりやすいRVizの画像]\n",
        "\n",
        "INSERT AN IMAGE HERE"
      ],
      "metadata": {
        "id": "B7cX3iFCfZyG"
      }
    },
    {
      "cell_type": "markdown",
      "source": [
        "**回答欄**: [状況が分かりやすい周囲状況の画像]\n",
        "\n",
        "INSERT AN IMAGE HERE"
      ],
      "metadata": {
        "id": "5OsQo_fofZyG"
      }
    },
    {
      "cell_type": "markdown",
      "source": [
        "**必要であれば適宜セルを追加して写真を貼り付けること**"
      ],
      "metadata": {
        "id": "u36XawmifZyG"
      }
    },
    {
      "cell_type": "markdown",
      "metadata": {
        "id": "zll-8gymfZyG"
      },
      "source": [
        "### 考察 (項目4.)\n",
        "動作結果について考察を行いレポートで報告してください。読者に伝わりやすいよう、添付画像を適宜参照すること。\n",
        "- 意図通りに動いたとしたら、動作のどの部分からそう判断したかを文章で報告してください。\n",
        "- 意図通りに動かなかったとしてもその理由を考えて、理由や改善するための案などを文章で報告してください。\n",
        "\n",
        "どちらの場合でもその他に気付いた点があれば文章で報告してください。"
      ]
    },
    {
      "cell_type": "markdown",
      "source": [
        "**回答欄**: [動作についての考察を貼り付ける]\n",
        "\n",
        "INSERT AN EXPLANATION HERE"
      ],
      "metadata": {
        "id": "-ryHtnhDfZyH"
      }
    },
    {
      "cell_type": "markdown",
      "metadata": {
        "id": "1w4idQ8RfZyH"
      },
      "source": [
        "## 発展課題6-EX1"
      ]
    },
    {
      "cell_type": "markdown",
      "metadata": {
        "id": "OxG2XUVVfZyH"
      },
      "source": [
        "### 円筒状物体を検知しその近くに移動するプログラム (項目1.)\n",
        "センサ情報から円筒状の物体を検知しその近くに移動するプログラムを作成し、レポートに貼り付けてください。"
      ]
    },
    {
      "cell_type": "code",
      "source": [
        "# 回答欄: [プログラムを貼り付ける]\n",
        "\n",
        "WRITE A PROGRAM HERE\n",
        "\n"
      ],
      "metadata": {
        "id": "F8MXaRA3fZyI"
      },
      "execution_count": null,
      "outputs": []
    },
    {
      "cell_type": "markdown",
      "metadata": {
        "id": "aiiDzlvEfZyI"
      },
      "source": [
        "### 目標を達成するためのアイデア、アルゴリズム (項目2.)\n",
        "プログラム作成時のアイデアや目標(棒を検知する、棒の近くに移動する)を達成するための作戦についての説明をレポートで報告してください。\n",
        "\n",
        "フローチャートなどの画像を使うと伝わりやすいです。レポートのノートブックには適宜セルを追加して図などの説明資料を挿入し、それを参照しながら説明する文章を作成してください。"
      ]
    },
    {
      "cell_type": "markdown",
      "source": [
        "**回答欄**: [プログラム作成時のアイデア、目標を達成するための作戦についての説明文章を作成し貼り付ける]\n",
        "\n",
        "INSERT AN EXPLANATION HERE"
      ],
      "metadata": {
        "id": "ur6vCMQEfZyI"
      }
    },
    {
      "cell_type": "markdown",
      "source": [
        "**適宜セルを追加し、図なども交えて説明すること**\n"
      ],
      "metadata": {
      }
    },
    {
      "cell_type": "markdown",
      "metadata": {
        "id": "3YFRl3VhfZyI"
      },
      "source": [
        "### 実行の様子 (項目3.)\n",
        "作成したプログラムを実行し、その様子を報告してください。レポートには下記の情報を含めてください。\n",
        "- 様子を説明する文章(添付画像を適宜参照すると伝わりやすいです。説明しやすい状況となるよう添付する画像を選ぶとより伝わりやすいレポートとなります。)\n",
        "- 動作前のRVizの画像と、動作前の状況の画像(シミュレーションならGazeboの画像、実機実験なら写真)\n",
        "- 動作後のRVizの画像と、動作後の状況の画像(シミュレーションならGazeboの画像、実機実験なら写真)\n",
        "- 意図通りに動作しなかった場合は、その状況が分かりやすいRVizの画像と周囲状況の画像(シミュレーションならGazeboの画像、実機実験なら写真)\n",
        "\n"
      ]
    },
    {
      "cell_type": "markdown",
      "source": [
        "#### 動作時の様子の説明"
      ],
      "metadata": {
        "id": "LQ-j89bFfZyJ"
      }
    },
    {
      "cell_type": "markdown",
      "source": [
        "**回答欄**: [動作時の様子を説明する文章作成し貼り付ける]\n",
        "\n",
        "INSERT AN EXPLANATION HERE"
      ],
      "metadata": {
        "id": "FJb1ymrkfZyJ"
      }
    },
    {
      "cell_type": "markdown",
      "source": [
        "#### 動作前の画像"
      ],
      "metadata": {
        "id": "NRceX55jfZyJ"
      }
    },
    {
      "cell_type": "markdown",
      "source": [
        "**回答欄**: [動作前のRVizの画像を貼り付ける]\n",
        "\n",
        "INSERT AN IMAGE HERE"
      ],
      "metadata": {
        "id": "YsKynLMBfZyK"
      }
    },
    {
      "cell_type": "markdown",
      "source": [
        "**回答欄**: [動作前の周囲状況の画像を貼り付ける]\n",
        "\n",
        "INSERT AN IMAGE HERE"
      ],
      "metadata": {
        "id": "GsG-l61UfZyK"
      }
    },
    {
      "cell_type": "markdown",
      "source": [
        "#### 動作後の画像"
      ],
      "metadata": {
        "id": "zr-voYChfZyK"
      }
    },
    {
      "cell_type": "markdown",
      "source": [
        "**回答欄**: [動作後のRVizの画像を貼り付ける]\n",
        "\n",
        "INSERT AN IMAGE HERE"
      ],
      "metadata": {
        "id": "8Jt7-MiYfZyL"
      }
    },
    {
      "cell_type": "markdown",
      "source": [
        "**回答欄**: [動作前の周囲状況の画像を貼り付ける]\n",
        "\n",
        "INSERT AN IMAGE HERE"
      ],
      "metadata": {
        "id": "Wllq5vcgfZyL"
      }
    },
    {
      "cell_type": "markdown",
      "source": [
        "#### 追加の説明用画像"
      ],
      "metadata": {
        "id": "mxpS82hUfZyL"
      }
    },
    {
      "cell_type": "markdown",
      "source": [
        "**回答欄**: [説明に有用な画実を適宜貼り付ける]\n",
        "\n",
        "INSERT AN IMAGE HERE"
      ],
      "metadata": {
        "id": "Sj868PMjfZyL"
      }
    },
    {
      "cell_type": "markdown",
      "source": [
        "#### 意図しない動作状況の画像"
      ],
      "metadata": {
        "id": "L2loNIIvfZyM"
      }
    },
    {
      "cell_type": "markdown",
      "source": [
        "**回答欄**: [状況が分かりやすいRVizの画像]\n",
        "\n",
        "INSERT AN IMAGE HERE"
      ],
      "metadata": {
        "id": "RtGKE7NKfZyN"
      }
    },
    {
      "cell_type": "markdown",
      "source": [
        "**回答欄**: [状況が分かりやすい周囲状況の画像]\n",
        "\n",
        "INSERT AN IMAGE HERE"
      ],
      "metadata": {
        "id": "RKGnXf4yfZyO"
      }
    },
    {
      "cell_type": "markdown",
      "source": [
        "**必要であれば適宜セルを追加して写真を貼り付けること**"
      ],
      "metadata": {
        "id": "_994km3rfZyP"
      }
    },
    {
      "cell_type": "markdown",
      "metadata": {
        "id": "SzySj_JTfZyP"
      },
      "source": [
        "### 考察 (項目4.)\n",
        "動作結果について考察を行いレポートで報告してください。読者に伝わりやすいよう、添付画像を適宜参照すること。\n",
        "- 意図通りに動いたとしたら、動作のどの部分からそう判断したかを文章で報告してください。\n",
        "- 意図通りに動かなかったとしてもその理由を考えて、理由や改善するための案などを文章で報告してください。\n",
        "\n",
        "どちらの場合でもその他に気付いた点があれば文章で報告してください。"
      ]
    },
    {
      "cell_type": "markdown",
      "source": [
        "**回答欄**: [動作についての考察を貼り付ける]\n",
        "\n",
        "INSERT AN EXPLANATION HERE"
      ],
      "metadata": {
        "id": "47RECyYLfZyP"
      }
    },
    {
      "cell_type": "markdown",
      "metadata": {
        "id": "fWjgklUEfZyQ"
      },
      "source": [
        "## 発展課題6-EX2"
      ]
    },
    {
      "cell_type": "markdown",
      "metadata": {
        "id": "ffDlgpaefZyQ"
      },
      "source": [
        "### 円筒状物体を検知しそれをアームで倒すプログラム (項目1.)\n",
        "センサ情報から棒(円筒状の物体)を検知しその近くに移動した後にアームを動作させて棒を倒すプログラムを作成し、レポートに貼り付けてください。"
      ]
    },
    {
      "cell_type": "code",
      "source": [
        "# 回答欄: [プログラムを貼り付ける]\n",
        "\n",
        "WRITE A PROGRAM HERE\n",
        "\n"
      ],
      "metadata": {
        "id": "kHOMcXd4fZyQ"
      },
      "execution_count": null,
      "outputs": []
    },
    {
      "cell_type": "markdown",
      "metadata": {
        "id": "UY26QOjQfZyQ"
      },
      "source": [
        "### 目標を達成するためのアイデア、アルゴリズム (項目2.)\n",
        "プログラム作成時のアイデアや目標(棒を検知する、棒を倒せる位置に移動する、棒を倒すなど)を達成するための作戦についての説明をレポートで報告してください。\n",
        "\n",
        "フローチャートなどの画像を使うと伝わりやすいです。レポートのノートブックには適宜セルを追加して図などの説明資料を挿入し、それを参照しながら説明する文章を作成してください。"
      ]
    },
    {
      "cell_type": "markdown",
      "source": [
        "**回答欄**: [プログラム作成時のアイデア、目標を達成するための作戦についての説明文章を作成し貼り付ける]\n",
        "\n",
        "INSERT AN EXPLANATION HERE"
      ],
      "metadata": {
        "id": "5LDURNbwfZyR"
      }
    },
    {
      "cell_type": "markdown",
      "metadata": {
        "id": "Px0en-OnfZyR"
      },
      "source": [
        "### 実行の様子 (項目3.)\n",
        "作成したプログラムを実行し、その様子を報告してください。レポートには下記の情報を含めてください。\n",
        "- 様子を説明する文章(添付画像を適宜参照すると伝わりやすいです。説明しやすい状況となるよう添付する画像を選ぶとより伝わりやすいレポートとなります。)\n",
        "- 動作前のRVizの画像と、動作前の状況の画像(シミュレーションならGazeboの画像、実機実験なら写真)\n",
        "- 動作後のRVizの画像と、動作後の状況の画像(シミュレーションならGazeboの画像、実機実験なら写真)\n",
        "- 意図通りに動作しなかった場合は、その状況が分かりやすいRVizの画像と周囲状況の画像(シミュレーションならGazeboの画像、実機実験なら写真)\n",
        "\n"
      ]
    },
    {
      "cell_type": "markdown",
      "source": [
        "#### 動作時の様子の説明"
      ],
      "metadata": {
        "id": "A_4PaKezfZyR"
      }
    },
    {
      "cell_type": "markdown",
      "source": [
        "**回答欄**: [動作時の様子を説明する文章作成し貼り付ける]\n",
        "\n",
        "INSERT AN EXPLANATION HERE"
      ],
      "metadata": {
        "id": "4N3PNjcjfZyR"
      }
    },
    {
      "cell_type": "markdown",
      "source": [
        "#### 動作前の画像"
      ],
      "metadata": {
        "id": "gZsgEm1YfZyS"
      }
    },
    {
      "cell_type": "markdown",
      "source": [
        "**回答欄**: [動作前のRVizの画像を貼り付ける]\n",
        "\n",
        "INSERT AN IMAGE HERE"
      ],
      "metadata": {
        "id": "vGQnCV-gfZyS"
      }
    },
    {
      "cell_type": "markdown",
      "source": [
        "**回答欄**: [動作前の周囲状況の画像を貼り付ける]\n",
        "\n",
        "INSERT AN IMAGE HERE"
      ],
      "metadata": {
        "id": "eJLyhX7tfZyS"
      }
    },
    {
      "cell_type": "markdown",
      "source": [
        "#### 動作後の画像"
      ],
      "metadata": {
        "id": "rbiwXfPRfZyS"
      }
    },
    {
      "cell_type": "markdown",
      "source": [
        "**回答欄**: [動作後のRVizの画像を貼り付ける]\n",
        "\n",
        "INSERT AN IMAGE HERE"
      ],
      "metadata": {
        "id": "PVhLZ7c5fZyT"
      }
    },
    {
      "cell_type": "markdown",
      "source": [
        "**回答欄**: [動作前の周囲状況の画像を貼り付ける]\n",
        "\n",
        "INSERT AN IMAGE HERE"
      ],
      "metadata": {
        "id": "R_8Cs_OifZyT"
      }
    },
    {
      "cell_type": "markdown",
      "source": [
        "#### 追加の説明用画像"
      ],
      "metadata": {
        "id": "swMKOi-TfZyT"
      }
    },
    {
      "cell_type": "markdown",
      "source": [
        "**回答欄**: [説明に有用な画実を適宜貼り付ける]\n",
        "\n",
        "INSERT AN IMAGE HERE"
      ],
      "metadata": {
        "id": "q7fEA9LVfZyU"
      }
    },
    {
      "cell_type": "markdown",
      "source": [
        "#### 意図しない動作状況の画像"
      ],
      "metadata": {
        "id": "XIvvIZeGfZyU"
      }
    },
    {
      "cell_type": "markdown",
      "source": [
        "**回答欄**: [状況が分かりやすいRVizの画像]\n",
        "\n",
        "INSERT AN IMAGE HERE"
      ],
      "metadata": {
        "id": "WGVMitTCfZyV"
      }
    },
    {
      "cell_type": "markdown",
      "source": [
        "**回答欄**: [状況が分かりやすい周囲状況の画像]\n",
        "\n",
        "INSERT AN IMAGE HERE"
      ],
      "metadata": {
        "id": "KTrs6q61fZyV"
      }
    },
    {
      "cell_type": "markdown",
      "source": [
        "**必要であれば適宜セルを追加して写真を貼り付けること**"
      ],
      "metadata": {
        "id": "2q2H69mtfZyV"
      }
    },
    {
      "cell_type": "markdown",
      "metadata": {
        "id": "DmV2UIp3fZyW"
      },
      "source": [
        "### 考察 (項目4.)\n",
        "動作結果について考察を行いレポートで報告してください。読者に伝わりやすいよう、添付画像を適宜参照すること。\n",
        "- 意図通りに動いたとしたら、動作のどの部分からそう判断したかを文章で報告してください。\n",
        "- 意図通りに動かなかったとしてもその理由を考えて、理由や改善するための案などを文章で報告してください。\n",
        "\n",
        "どちらの場合でもその他に気付いた点があれば文章で報告してください。"
      ]
    },
    {
      "cell_type": "markdown",
      "source": [
        "**回答欄**: [動作についての考察を貼り付ける]\n",
        "\n",
        "INSERT AN EXPLANATION HERE"
      ],
      "metadata": {
        "id": "8EHj95BgfZyW"
      }
    }
  ],
  "metadata": {
    "kernelspec": {
      "display_name": "Python 3",
      "language": "python",
      "name": "python3"
    },
    "language_info": {
      "codemirror_mode": {
        "name": "ipython",
        "version": 3
      },
      "file_extension": ".py",
      "mimetype": "text/x-python",
      "name": "python",
      "nbconvert_exporter": "python",
      "pygments_lexer": "ipython3",
      "version": "3.7.8"
    },
    "colab": {
      "name": "2022exp3report6.ipynb",
      "provenance": [],
      "toc_visible": true
    }
  },
  "nbformat": 4,
  "nbformat_minor": 0
}